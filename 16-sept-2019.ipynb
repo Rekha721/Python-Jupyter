{
 "cells": [
  {
   "cell_type": "markdown",
   "metadata": {},
   "source": [
    "# Regular Expressions\n",
    "Syntax : import re\n",
    "## Methods in Regular Expressions\n",
    "- re.findall()\n",
    "- re.search()\n",
    "- re.match()\n",
    "- re.sub()\n",
    "- re.finditer()"
   ]
  },
  {
   "cell_type": "markdown",
   "metadata": {},
   "source": [
    "- set \" [ ] \"  --> We can insert set of or group of chars,numbers etc.,\n",
    "- Caret\" ^g \"  --> Starts with g.\n",
    "- Doller\" $ \"  --> Ends with\n",
    "- star \" * \"   --> Zero or more occurance\n",
    "- plus \" + \"   --> One or More occurances\n",
    "- { }          --> Exactly the specified no.of occurance\n",
    "- \" | \"        --> Or\n",
    "- \"\"           --> Special sequence\n",
    "- A period     --> Represent a charecter"
   ]
  },
  {
   "cell_type": "markdown",
   "metadata": {},
   "source": [
    "## Special Sequence \" \\ \"\n",
    "\n",
    "- \\A  --> Charecter is at beginning of string\n",
    "- \\b  --> Charecter is at begining or ending of string\n",
    "- \\d  --> Any digit\n",
    "- \\D  --> non-digit\n",
    "- \\s  --> White space\n",
    "- \\S  --> Non-whitespace\n",
    "- \\w  --> alphanumeric\n",
    "- \\W  --> Non-alphanumeric (Ex:!@#$%^)"
   ]
  },
  {
   "cell_type": "code",
   "execution_count": 2,
   "metadata": {},
   "outputs": [
    {
     "name": "stdout",
     "output_type": "stream",
     "text": [
      "['h', 'e', 'h', 'g', 'a', 'i', 'g', 'l', 'a', 'g', 'a', 'g', 'e']\n"
     ]
    }
   ],
   "source": [
    "# Write a program to find the charectersbetween \"a\" and \"l.\n",
    "import re\n",
    "string=\"the python programming language\"\n",
    "str2=re.findall(\"[a-l]\",string)\n",
    "print(str2)"
   ]
  },
  {
   "cell_type": "code",
   "execution_count": 5,
   "metadata": {},
   "outputs": [
    {
     "name": "stdout",
     "output_type": "stream",
     "text": [
      "['6', '1', '0', '0']\n",
      "['T', 'h', 'e', ' ', 'c', 'o', 's', 't', ' ', 'o', 'f', ' ', ' ', 'a', 'p', 'p', 'l', 'e', 's', ' ', 'a', 'r', 'e', ' ', ' ', 'R', 's']\n"
     ]
    }
   ],
   "source": [
    "# write a program to find the digits in a given string\n",
    "import re\n",
    "string=\"The cost of 6 apples are 100 Rs\"\n",
    "str2=re.findall(\"\\d\",string)\n",
    "str3=re.findall(\"\\D\",string)\n",
    "print(str2)\n",
    "print(str3)"
   ]
  },
  {
   "cell_type": "code",
   "execution_count": 7,
   "metadata": {},
   "outputs": [
    {
     "name": "stdout",
     "output_type": "stream",
     "text": [
      "['Progr']\n"
     ]
    }
   ],
   "source": [
    "# Take a string which contains more than 8 charecters,print 5 charecters in that string.\n",
    "string=\"Programming\"\n",
    "str2=re.findall(\"Pr...\",string)\n",
    "print(str2)"
   ]
  },
  {
   "cell_type": "code",
   "execution_count": 9,
   "metadata": {},
   "outputs": [
    {
     "name": "stdout",
     "output_type": "stream",
     "text": [
      "9392627761\n"
     ]
    },
    {
     "data": {
      "text/plain": [
       "True"
      ]
     },
     "execution_count": 9,
     "metadata": {},
     "output_type": "execute_result"
    }
   ],
   "source": [
    "# phone number  validator\n",
    "import re\n",
    "def phoneNumValidator(number):\n",
    "    p='[6-9][0-9]{9}|[+][9][1][6-9][0-9]{9}'\n",
    "    if re.match(p,str(number)):\n",
    "                return True\n",
    "    else:\n",
    "                return False\n",
    "n=int(input())\n",
    "phoneNumValidator(n)\n",
    "        "
   ]
  },
  {
   "cell_type": "code",
   "execution_count": 12,
   "metadata": {},
   "outputs": [
    {
     "name": "stdout",
     "output_type": "stream",
     "text": [
      "python::::programming:language\n",
      "pythonprogramminglanguage\n"
     ]
    }
   ],
   "source": [
    "# re.sub() method\n",
    "# write a program to replace white space with colon\":\"\n",
    "import re\n",
    "string=\"python    programming language\"\n",
    "str2=re.sub('\\s',':',string)\n",
    "str3=re.sub(' ','',string)\n",
    "print(str2)\n",
    "print(str3)"
   ]
  },
  {
   "cell_type": "code",
   "execution_count": 15,
   "metadata": {},
   "outputs": [
    {
     "name": "stdout",
     "output_type": "stream",
     "text": [
      "enter gmail : rekhatulugu307@gmail.com\n",
      "False\n"
     ]
    }
   ],
   "source": [
    "#\n",
    "import re\n",
    "str1=input(\"enter gmail : \")\n",
    "if re.match(str1,'[a-z][0-9a-z.]{5,15}[@][0-9a-z]{3,8}[.][a-z]{2,4}'):\n",
    "    print(True)\n",
    "else:\n",
    "    print(False)"
   ]
  },
  {
   "cell_type": "code",
   "execution_count": null,
   "metadata": {},
   "outputs": [],
   "source": []
  }
 ],
 "metadata": {
  "kernelspec": {
   "display_name": "Python 3",
   "language": "python",
   "name": "python3"
  },
  "language_info": {
   "codemirror_mode": {
    "name": "ipython",
    "version": 3
   },
   "file_extension": ".py",
   "mimetype": "text/x-python",
   "name": "python",
   "nbconvert_exporter": "python",
   "pygments_lexer": "ipython3",
   "version": "3.7.3"
  }
 },
 "nbformat": 4,
 "nbformat_minor": 2
}
