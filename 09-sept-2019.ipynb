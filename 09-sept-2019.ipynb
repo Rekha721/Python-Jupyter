{
 "cells": [
  {
   "cell_type": "markdown",
   "metadata": {},
   "source": [
    "# Conditional Statements"
   ]
  },
  {
   "cell_type": "markdown",
   "metadata": {},
   "source": [
    "* If Statement\n",
    "* if..else Statements\n",
    "* if..elif Statements\n",
    "* Nested if..else"
   ]
  },
  {
   "cell_type": "markdown",
   "metadata": {},
   "source": [
    "## 1) If Statement"
   ]
  },
  {
   "cell_type": "code",
   "execution_count": 1,
   "metadata": {},
   "outputs": [
    {
     "name": "stdout",
     "output_type": "stream",
     "text": [
      "Enter marks : 23\n"
     ]
    }
   ],
   "source": [
    "marks = int(input(\"Enter marks : \"))\n",
    "passing = 50\n",
    "distinction = 90"
   ]
  },
  {
   "cell_type": "code",
   "execution_count": 2,
   "metadata": {},
   "outputs": [
    {
     "name": "stdout",
     "output_type": "stream",
     "text": [
      "Failed\n"
     ]
    }
   ],
   "source": [
    "if marks >= distinction:\n",
    "    print(\"Toper\")\n",
    "if marks >= passing and marks < distinction:\n",
    "    print (\"You passed\")\n",
    "if marks < passing:\n",
    "    print(\"Failed\")"
   ]
  },
  {
   "cell_type": "code",
   "execution_count": 6,
   "metadata": {},
   "outputs": [
    {
     "name": "stdout",
     "output_type": "stream",
     "text": [
      "Bad Review\n"
     ]
    }
   ],
   "source": [
    "st = \"The coffie is bad\"\n",
    "if 'bad' in st:\n",
    "    print(\"Bad Review\")\n",
    "# for this type of problems we can use else.    \n",
    "st2 = \"I am very Good\"\n",
    "if 'bad' in st2:\n",
    "    print(\"Good Review\")"
   ]
  },
  {
   "cell_type": "code",
   "execution_count": 5,
   "metadata": {},
   "outputs": [
    {
     "data": {
      "text/plain": [
       "False"
      ]
     },
     "execution_count": 5,
     "metadata": {},
     "output_type": "execute_result"
    }
   ],
   "source": [
    "'z' in \"hello\""
   ]
  },
  {
   "cell_type": "markdown",
   "metadata": {},
   "source": [
    "## 2) If else Statement"
   ]
  },
  {
   "cell_type": "code",
   "execution_count": 7,
   "metadata": {},
   "outputs": [
    {
     "name": "stdout",
     "output_type": "stream",
     "text": [
      "False\n"
     ]
    }
   ],
   "source": [
    "if None:\n",
    "    print(\"True\")\n",
    "else:\n",
    "    print(\"False\")"
   ]
  },
  {
   "cell_type": "code",
   "execution_count": 8,
   "metadata": {},
   "outputs": [
    {
     "name": "stdout",
     "output_type": "stream",
     "text": [
      "Enter a number :7\n",
      "Odd\n"
     ]
    }
   ],
   "source": [
    "n=int(input(\"Enter a number :\"))\n",
    "if(n%2==0):\n",
    "    print(\"Even\")\n",
    "else:\n",
    "    print(\"Odd\")"
   ]
  },
  {
   "cell_type": "markdown",
   "metadata": {},
   "source": [
    "### Q1) If a number is even should be check divisible by 4 or not, and if a number is odd check divisible by 3 or not."
   ]
  },
  {
   "cell_type": "code",
   "execution_count": 9,
   "metadata": {},
   "outputs": [
    {
     "name": "stdout",
     "output_type": "stream",
     "text": [
      "Enter n value : 7\n",
      "Odd\n",
      "Not Divisible by 3\n"
     ]
    }
   ],
   "source": [
    "n1=int(input(\"Enter n value : \"))\n",
    "if(n1%2==0): \n",
    "    print(\"Even\")\n",
    "    if(n1%4==0):\n",
    "        print(\"Divisible by 4\")\n",
    "    else:\n",
    "        print(\"Not Divisible by 4\")\n",
    "else:\n",
    "    print(\"Odd\")\n",
    "    if(n1%3==0):\n",
    "        print(\"Divisible by 3\")\n",
    "    else:\n",
    "        print(\"Not Divisible by 3\")\n"
   ]
  },
  {
   "cell_type": "markdown",
   "metadata": {},
   "source": [
    " ### Q2) Check if a year is Leap year or Not."
   ]
  },
  {
   "cell_type": "code",
   "execution_count": 11,
   "metadata": {},
   "outputs": [
    {
     "name": "stdout",
     "output_type": "stream",
     "text": [
      "Enter year :2012\n",
      "Leap Year\n"
     ]
    }
   ],
   "source": [
    "y=int(input(\"Enter year :\"))\n",
    "if (y%400==0) or (y%4==0 and y%100!=0):\n",
    "    print(\"Leap Year\")\n",
    "else:\n",
    "    print(\"Not a Leap year\")"
   ]
  },
  {
   "cell_type": "markdown",
   "metadata": {},
   "source": [
    "### Q3) Check if a number is exists in given range(inclusive)."
   ]
  },
  {
   "cell_type": "code",
   "execution_count": 13,
   "metadata": {},
   "outputs": [
    {
     "name": "stdout",
     "output_type": "stream",
     "text": [
      "Yes\n"
     ]
    }
   ],
   "source": [
    "a=123\n",
    "lb=50\n",
    "ub=150\n",
    "if (a>=lb and a<=ub):\n",
    "    print(\"Yes\")\n",
    "else:\n",
    "    print(\"No\")"
   ]
  },
  {
   "cell_type": "markdown",
   "metadata": {},
   "source": [
    "### Q4) Check if a number is multiple of 10."
   ]
  },
  {
   "cell_type": "code",
   "execution_count": 15,
   "metadata": {},
   "outputs": [
    {
     "name": "stdout",
     "output_type": "stream",
     "text": [
      "Enter n:24\n",
      "Not a Multiple of 10\n"
     ]
    }
   ],
   "source": [
    "n=int(input(\"Enter n:\"))\n",
    "if(n%10==0):\n",
    "    print(\"Multiple of 10\")\n",
    "else:\n",
    "    print(\"Not a Multiple of 10\")"
   ]
  },
  {
   "cell_type": "markdown",
   "metadata": {},
   "source": [
    "### Q5) Check if a number is a factor of 100."
   ]
  },
  {
   "cell_type": "code",
   "execution_count": 16,
   "metadata": {},
   "outputs": [
    {
     "name": "stdout",
     "output_type": "stream",
     "text": [
      "Enter n:45\n",
      "Not a factor of 100\n"
     ]
    }
   ],
   "source": [
    "n=int(input(\"Enter n:\"))\n",
    "if(100%n==0):\n",
    "    print(\"Factor of 100\")\n",
    "else:\n",
    "    print(\"Not a factor of 100\")"
   ]
  },
  {
   "cell_type": "markdown",
   "metadata": {},
   "source": [
    "### Q6) Check if a given string is equal to a number."
   ]
  },
  {
   "cell_type": "code",
   "execution_count": 1,
   "metadata": {},
   "outputs": [
    {
     "name": "stdout",
     "output_type": "stream",
     "text": [
      "Not equal\n"
     ]
    }
   ],
   "source": [
    "num=123456\n",
    "st=\"python\"\n",
    "if str(num)==st:\n",
    "    print(\"Equal\")\n",
    "else:\n",
    "    print(\"Not equal\")"
   ]
  },
  {
   "cell_type": "markdown",
   "metadata": {},
   "source": [
    "### Q7) Calculate the number of nano seconds in a given year (Consider leap year logic)."
   ]
  },
  {
   "cell_type": "code",
   "execution_count": 8,
   "metadata": {},
   "outputs": [
    {
     "name": "stdout",
     "output_type": "stream",
     "text": [
      "Enter a year:2020\n",
      "31622400000000000\n"
     ]
    }
   ],
   "source": [
    "year=int(input(\"Enter a year:\"))\n",
    "if (year%400==0) or (year%4==0 and year%100!=0):\n",
    "    print(366*24*60*60*(10**9))\n",
    "else:\n",
    "    print(365*24*60*60*(10**9))"
   ]
  },
  {
   "cell_type": "markdown",
   "metadata": {},
   "source": [
    "## 3) elif Statement"
   ]
  },
  {
   "cell_type": "markdown",
   "metadata": {},
   "source": [
    "### Q1) Find the greatest of 3 numbers."
   ]
  },
  {
   "cell_type": "code",
   "execution_count": 9,
   "metadata": {},
   "outputs": [
    {
     "name": "stdout",
     "output_type": "stream",
     "text": [
      "Enter n1:23\n",
      "Enter n2:4\n",
      "Enter n3:77\n",
      "n3 is grater\n"
     ]
    }
   ],
   "source": [
    "n1=int(input(\"Enter n1:\"))\n",
    "n2=int(input(\"Enter n2:\"))\n",
    "n3=int(input(\"Enter n3:\"))\n",
    "if n1>n2 and n1>n3:\n",
    "    print(\"n1 is greater\")\n",
    "elif n2>n3 and n2>n1:\n",
    "    print(\"n2 is grater\")\n",
    "else:\n",
    "    print(\"n3 is grater\")"
   ]
  },
  {
   "cell_type": "markdown",
   "metadata": {},
   "source": [
    "### Q2) "
   ]
  },
  {
   "cell_type": "code",
   "execution_count": 11,
   "metadata": {},
   "outputs": [
    {
     "name": "stdout",
     "output_type": "stream",
     "text": [
      "enter marks :77\n",
      "Second class\n"
     ]
    }
   ],
   "source": [
    "m=int(input(\"enter marks :\"))\n",
    "pa=50\n",
    "dis=90\n",
    "if m==100:\n",
    "    print(\"Perfect\")\n",
    "elif 90<=m<100:\n",
    "    print(\"Distinction\")\n",
    "elif 80<=m<90:\n",
    "    print(\"First class\")\n",
    "elif 50<=m<80:\n",
    "    print(\"Second class\")\n",
    "else:\n",
    "    print(\"Failed\")"
   ]
  },
  {
   "cell_type": "markdown",
   "metadata": {},
   "source": [
    "## 4) Nested If"
   ]
  },
  {
   "cell_type": "markdown",
   "metadata": {},
   "source": [
    "* Take an input from keyboard.\n",
    "* Check the number is position or negative or zero display."
   ]
  },
  {
   "cell_type": "code",
   "execution_count": 12,
   "metadata": {},
   "outputs": [
    {
     "name": "stdout",
     "output_type": "stream",
     "text": [
      "Enter a number :23\n",
      "Positive\n"
     ]
    }
   ],
   "source": [
    "n=int(input(\"Enter a number :\"))\n",
    "if n>=0:\n",
    "    if n==0:\n",
    "        print(\"Zero\")\n",
    "    else:\n",
    "        print(\"Positive\")\n",
    "else:\n",
    "    print(\"Negative\")"
   ]
  },
  {
   "cell_type": "code",
   "execution_count": null,
   "metadata": {},
   "outputs": [],
   "source": []
  },
  {
   "cell_type": "markdown",
   "metadata": {},
   "source": [
    "# Tasks\n",
    "\n",
    "CONDITIONAL STATEMENTS\n",
    "\n",
    "* 1) Check the given year is a Leap year or not \n",
    "* 2) Check if the number exist in a given range (inputs: number(n), range(lower number and upper number) \n",
    "* 3) Check the number of digits in a given number\n",
    "* 4) Check if the given number is a factor of 1000 \n",
    "* 5) Calculate the square root of a given number \n"
   ]
  },
  {
   "cell_type": "code",
   "execution_count": 13,
   "metadata": {},
   "outputs": [
    {
     "name": "stdout",
     "output_type": "stream",
     "text": [
      "Enter year :2020\n",
      "Leap Year\n"
     ]
    }
   ],
   "source": [
    "# 1) Check the given year is a Leap year or not. \n",
    "y=int(input(\"Enter year :\"))\n",
    "if (y%400==0) or (y%4==0 and y%100!=0):\n",
    "    print(\"Leap Year\")\n",
    "else:\n",
    "    print(\"Not a Leap year\")"
   ]
  },
  {
   "cell_type": "code",
   "execution_count": 14,
   "metadata": {},
   "outputs": [
    {
     "name": "stdout",
     "output_type": "stream",
     "text": [
      "Yes\n"
     ]
    }
   ],
   "source": [
    "#  2) Check if the number exist in a given range (inputs: number(n), range(lower number and upper number) \n",
    "a=123\n",
    "lb=50\n",
    "ub=150\n",
    "if (a>=lb and a<=ub):\n",
    "    print(\"Yes\")\n",
    "else:\n",
    "    print(\"No\")"
   ]
  },
  {
   "cell_type": "code",
   "execution_count": 6,
   "metadata": {},
   "outputs": [
    {
     "name": "stdout",
     "output_type": "stream",
     "text": [
      "Enter n value :123\n",
      "Digits :  3\n"
     ]
    }
   ],
   "source": [
    "# 3) Check the number of digits in a given number\n",
    "n=int(input(\"Enter n value :\"))\n",
    "c=0\n",
    "while(n>0):\n",
    "    n=n//10\n",
    "    c=c+1\n",
    "print(\"Digits : \",c)"
   ]
  },
  {
   "cell_type": "code",
   "execution_count": 18,
   "metadata": {},
   "outputs": [
    {
     "name": "stdout",
     "output_type": "stream",
     "text": [
      "Enter n:231\n",
      "Not a factor of 1000\n"
     ]
    }
   ],
   "source": [
    "#  4) Check if the given number is a factor of 1000 \n",
    "n=int(input(\"Enter n:\"))\n",
    "if(1000%n==0):\n",
    "    print(\"Factor of 1000\")\n",
    "else:\n",
    "    print(\"Not a factor of 1000\")"
   ]
  },
  {
   "cell_type": "code",
   "execution_count": 7,
   "metadata": {},
   "outputs": [
    {
     "name": "stdout",
     "output_type": "stream",
     "text": [
      "Enter number :4\n",
      "2.0\n"
     ]
    }
   ],
   "source": [
    "# 5) Calculate the square root of a given number\n",
    "import math\n",
    "s=float(input(\"Enter number :\"))\n",
    "r=math.sqrt(s)\n",
    "print(r)"
   ]
  },
  {
   "cell_type": "code",
   "execution_count": null,
   "metadata": {},
   "outputs": [],
   "source": []
  },
  {
   "cell_type": "markdown",
   "metadata": {},
   "source": [
    "# Iterations/Loops"
   ]
  },
  {
   "cell_type": "code",
   "execution_count": 12,
   "metadata": {},
   "outputs": [
    {
     "data": {
      "text/plain": [
       "range(1, 5)"
      ]
     },
     "execution_count": 12,
     "metadata": {},
     "output_type": "execute_result"
    }
   ],
   "source": [
    "range(5)     # 0,1,2,3,4.\n",
    "range(1,5)   # 1,2,3,4."
   ]
  },
  {
   "cell_type": "markdown",
   "metadata": {},
   "source": [
    "## (1) For Loop "
   ]
  },
  {
   "cell_type": "code",
   "execution_count": 13,
   "metadata": {},
   "outputs": [
    {
     "name": "stdout",
     "output_type": "stream",
     "text": [
      "0\n",
      "1\n",
      "2\n",
      "3\n",
      "4\n"
     ]
    }
   ],
   "source": [
    "for i in range(5):\n",
    "    print(i)"
   ]
  },
  {
   "cell_type": "code",
   "execution_count": 14,
   "metadata": {},
   "outputs": [
    {
     "name": "stdout",
     "output_type": "stream",
     "text": [
      "h\n",
      "e\n",
      "l\n",
      "l\n",
      "o\n"
     ]
    }
   ],
   "source": [
    "s1=\"hello\"\n",
    "for i in s1:\n",
    "    print(i)"
   ]
  },
  {
   "cell_type": "code",
   "execution_count": 17,
   "metadata": {},
   "outputs": [
    {
     "name": "stdout",
     "output_type": "stream",
     "text": [
      "h,e,l,l,o,"
     ]
    }
   ],
   "source": [
    "# print hello in single line separated by ,\n",
    "s=\"hello\"\n",
    "for i in s:\n",
    "    print(i,end=\",\")"
   ]
  },
  {
   "cell_type": "code",
   "execution_count": 20,
   "metadata": {},
   "outputs": [
    {
     "name": "stdout",
     "output_type": "stream",
     "text": [
      "h\n",
      "e\n",
      "l\n",
      "l\n",
      "o\n"
     ]
    }
   ],
   "source": [
    "# print hello in single line separated by ,\n",
    "s2=\"hello\"\n",
    "for i in s2:\n",
    "    print(i,sep=\",\")"
   ]
  },
  {
   "cell_type": "code",
   "execution_count": 21,
   "metadata": {},
   "outputs": [
    {
     "name": "stdout",
     "output_type": "stream",
     "text": [
      "a,,,b,,,c,,,d,"
     ]
    }
   ],
   "source": [
    "s3=\"a,b,c,d\"\n",
    "for i in s3:\n",
    "    print(i,end=\",\")"
   ]
  },
  {
   "cell_type": "code",
   "execution_count": 25,
   "metadata": {},
   "outputs": [
    {
     "name": "stdout",
     "output_type": "stream",
     "text": [
      "43.56\n",
      "43,56\n",
      "43 56\n"
     ]
    }
   ],
   "source": [
    "print(43,56,sep=\".\")\n",
    "print(43,56,sep=\",\")\n",
    "print(43,56)      # default separator is space."
   ]
  },
  {
   "cell_type": "code",
   "execution_count": 27,
   "metadata": {},
   "outputs": [
    {
     "name": "stdout",
     "output_type": "stream",
     "text": [
      "2 4 6 8 10 "
     ]
    }
   ],
   "source": [
    "for i in range(1,11):\n",
    "    if(i%2==0):\n",
    "        print(i,end=\" \")"
   ]
  },
  {
   "cell_type": "code",
   "execution_count": 34,
   "metadata": {},
   "outputs": [
    {
     "name": "stdout",
     "output_type": "stream",
     "text": [
      "2 4 6 8 10 "
     ]
    }
   ],
   "source": [
    "for i in range(2,11,2):\n",
    "    print(i,end=\" \")"
   ]
  },
  {
   "cell_type": "code",
   "execution_count": 35,
   "metadata": {},
   "outputs": [
    {
     "name": "stdout",
     "output_type": "stream",
     "text": [
      "7 , 14 , 21 , 28 , 35 , 42 , 49 , 56 , 63 , 70 , 77 , 84 , 91 , 98 , 105 , 112 , 119 , 126 , 133 , 140 , 147 , 154 , 161 , 168 , 175 , 182 , 189 , 196 , 203 , 210 , 217 , 224 , 231 , 238 , 245 , 252 , 259 , 266 , 273 , 280 , 287 , 294 , 301 , 308 , 315 , 322 , 329 , 336 , 343 , 350 , 357 , 364 , 371 , 378 , 385 , 392 , 399 , 406 , 413 , 420 , 427 , 434 , 441 , 448 , 455 , 462 , 469 , 476 , 483 , 490 , 497 , 504 , 511 , 518 , 525 , 532 , 539 , 546 , 553 , 560 , 567 , 574 , 581 , 588 , 595 , 602 , 609 , 616 , 623 , 630 , 637 , 644 , 651 , 658 , 665 , 672 , 679 , 686 , 693 , 700 , 707 , 714 , 721 , 728 , 735 , 742 , 749 , 756 , 763 , 770 , 777 , 784 , 791 , 798 , 805 , 812 , 819 , 826 , 833 , 840 , 847 , 854 , 861 , 868 , 875 , 882 , 889 , 896 , 903 , 910 , 917 , 924 , 931 , 938 , 945 , 952 , 959 , 966 , 973 , 980 , 987 , 994 , "
     ]
    }
   ],
   "source": [
    "for i in range(7,1000,7):\n",
    "    print(i,end=\" , \")"
   ]
  },
  {
   "cell_type": "code",
   "execution_count": 37,
   "metadata": {},
   "outputs": [
    {
     "name": "stdout",
     "output_type": "stream",
     "text": [
      "14 , 28 , 42 , 56 , 70 , 84 , 98 , 112 , 126 , 140 , 154 , 168 , 182 , 196 , 210 , 224 , 238 , 252 , 266 , 280 , 294 , 308 , 322 , 336 , 350 , 364 , 378 , 392 , 406 , 420 , 434 , 448 , 462 , 476 , 490 , 504 , 518 , 532 , 546 , 560 , 574 , 588 , 602 , 616 , 630 , 644 , 658 , 672 , 686 , 700 , 714 , 728 , 742 , 756 , 770 , 784 , 798 , 812 , 826 , 840 , 854 , 868 , 882 , 896 , 910 , 924 , 938 , 952 , 966 , 980 , 994 , "
     ]
    }
   ],
   "source": [
    "for i in range(7,1000,7):\n",
    "    if(i%2==0):\n",
    "        print(i,end=\" , \")"
   ]
  },
  {
   "cell_type": "code",
   "execution_count": 38,
   "metadata": {},
   "outputs": [
    {
     "name": "stdout",
     "output_type": "stream",
     "text": [
      "1000 , 993 , 986 , 979 , 972 , 965 , 958 , 951 , 944 , 937 , 930 , 923 , 916 , 909 , 902 , 895 , 888 , 881 , 874 , 867 , 860 , 853 , 846 , 839 , 832 , 825 , 818 , 811 , 804 , 797 , 790 , 783 , 776 , 769 , 762 , 755 , 748 , 741 , 734 , 727 , 720 , 713 , 706 , 699 , 692 , 685 , 678 , 671 , 664 , 657 , 650 , 643 , 636 , 629 , 622 , 615 , 608 , 601 , 594 , 587 , 580 , 573 , 566 , 559 , 552 , 545 , 538 , 531 , 524 , 517 , 510 , 503 , 496 , 489 , 482 , 475 , 468 , 461 , 454 , 447 , 440 , 433 , 426 , 419 , 412 , 405 , 398 , 391 , 384 , 377 , 370 , 363 , 356 , 349 , 342 , 335 , 328 , 321 , 314 , 307 , 300 , 293 , 286 , 279 , 272 , 265 , 258 , 251 , 244 , 237 , 230 , 223 , 216 , 209 , 202 , 195 , 188 , 181 , 174 , 167 , 160 , 153 , 146 , 139 , 132 , 125 , 118 , 111 , 104 , 97 , 90 , 83 , 76 , 69 , 62 , 55 , 48 , 41 , 34 , 27 , 20 , 13 , "
     ]
    }
   ],
   "source": [
    "for i in range(1000,7,-7):\n",
    "    print(i,end=\" , \")"
   ]
  },
  {
   "cell_type": "code",
   "execution_count": 39,
   "metadata": {},
   "outputs": [
    {
     "name": "stdout",
     "output_type": "stream",
     "text": [
      "98,96,94,92,90,88,86,84,82,80,78,76,74,72,70,68,66,64,62,60,58,56,54,52,50,"
     ]
    }
   ],
   "source": [
    "for i in range(98,49,-2):\n",
    "    print(i,end=\",\")"
   ]
  },
  {
   "cell_type": "markdown",
   "metadata": {},
   "source": [
    "## (2) While Loop"
   ]
  },
  {
   "cell_type": "code",
   "execution_count": 2,
   "metadata": {},
   "outputs": [
    {
     "name": "stdout",
     "output_type": "stream",
     "text": [
      "1 2 3 4 5 6 7 8 9 10 "
     ]
    }
   ],
   "source": [
    "i=1\n",
    "while(i<=10):\n",
    "    print(i,end=\" \")\n",
    "    i=i+1"
   ]
  },
  {
   "cell_type": "code",
   "execution_count": 2,
   "metadata": {},
   "outputs": [
    {
     "name": "stdout",
     "output_type": "stream",
     "text": [
      "3 6 9 12 15 18 21 24 27 30 33 36 39 42 45 48 51 54 57 60 63 66 69 72 75 78 81 84 87 90 93 96 99 "
     ]
    }
   ],
   "source": [
    "i=3\n",
    "while(i<100):\n",
    "    if(i%3==0):\n",
    "        print(i,end=\" \")\n",
    "    i=i+1"
   ]
  },
  {
   "cell_type": "code",
   "execution_count": 4,
   "metadata": {},
   "outputs": [
    {
     "name": "stdout",
     "output_type": "stream",
     "text": [
      "100 97 94 91 88 85 82 79 76 73 70 67 64 61 58 55 52 49 46 43 40 37 34 31 28 25 22 19 16 13 10 7 4 "
     ]
    }
   ],
   "source": [
    "i=100\n",
    "while(i>=3):\n",
    "    print(i,end=\" \")\n",
    "    i=i-3"
   ]
  },
  {
   "cell_type": "code",
   "execution_count": 1,
   "metadata": {},
   "outputs": [
    {
     "name": "stdout",
     "output_type": "stream",
     "text": [
      "h\n",
      "e\n",
      "l\n",
      "l\n",
      "o\n"
     ]
    }
   ],
   "source": [
    "s=\"hello\"\n",
    "i=0\n",
    "while(i<len(s)):\n",
    "    print(s[i])\n",
    "    i=i+1"
   ]
  },
  {
   "cell_type": "code",
   "execution_count": 6,
   "metadata": {},
   "outputs": [
    {
     "name": "stdout",
     "output_type": "stream",
     "text": [
      "1\n",
      "2\n",
      "3\n",
      "4\n",
      "5\n"
     ]
    }
   ],
   "source": [
    "# function to print N natural numbers using loop\n",
    "def numbers(n):\n",
    "    for i in range(1,n+1):\n",
    "        print(i)\n",
    "numbers(5)"
   ]
  },
  {
   "cell_type": "markdown",
   "metadata": {},
   "source": [
    "## Tasks :\n",
    "ITERATIONS/LOOPS\n",
    "\n",
    "### FOR LOOP\n",
    "\n",
    "* 1.Iterate the integers from 1 to 50, for multiples of 3 print “Fizz” and for multiples of 5 print “Buzz” and for multiples of both 3 and 5 print “FizzBuzz”.\n",
    "* 2.Program to print the multiplication table from range between 10 to 20 (Ex: 3 x 10 = 30….)\n"
   ]
  },
  {
   "cell_type": "code",
   "execution_count": 1,
   "metadata": {},
   "outputs": [
    {
     "name": "stdout",
     "output_type": "stream",
     "text": [
      "3 Fizz\n",
      "5 Buzz\n",
      "6 Fizz\n",
      "9 Fizz\n",
      "10 Buzz\n",
      "12 Fizz\n",
      "15 FizzBuzz\n",
      "18 Fizz\n",
      "20 Buzz\n",
      "21 Fizz\n",
      "24 Fizz\n",
      "25 Buzz\n",
      "27 Fizz\n",
      "30 FizzBuzz\n",
      "33 Fizz\n",
      "35 Buzz\n",
      "36 Fizz\n",
      "39 Fizz\n",
      "40 Buzz\n",
      "42 Fizz\n",
      "45 FizzBuzz\n",
      "48 Fizz\n"
     ]
    }
   ],
   "source": [
    "#Iterate the integers from 1 to 50, for multiples of 3 print “Fizz” and for multiples of 5 print “Buzz” and for multiples of both 3 and 5 print “FizzBuzz”.\n",
    "for i in range(1,50):\n",
    "    if i%3==0 and i%5!=0:\n",
    "        print(i,\"Fizz\")\n",
    "    elif i%5==0 and i%3!=0:\n",
    "        print(i,\"Buzz\")\n",
    "    elif i%3==0 and i%5==0:\n",
    "        print(i,\"FizzBuzz\")"
   ]
  },
  {
   "cell_type": "code",
   "execution_count": 2,
   "metadata": {},
   "outputs": [
    {
     "name": "stdout",
     "output_type": "stream",
     "text": [
      "Enter any number:23\n",
      "23 X 10 = 230\n",
      "23 X 11 = 253\n",
      "23 X 12 = 276\n",
      "23 X 13 = 299\n",
      "23 X 14 = 322\n",
      "23 X 15 = 345\n",
      "23 X 16 = 368\n",
      "23 X 17 = 391\n",
      "23 X 18 = 414\n",
      "23 X 19 = 437\n",
      "23 X 20 = 460\n"
     ]
    }
   ],
   "source": [
    "# 2.Program to print the multiplication table from range between 10 to 20 (Ex: 3 x 10 = 30….)\n",
    "num=int(input(\"Enter any number:\"))\n",
    "i=10\n",
    "while(i<=20):\n",
    "    print(num,\"X\",i,\"=\",num*i)\n",
    "    i=i+1"
   ]
  },
  {
   "cell_type": "markdown",
   "metadata": {},
   "source": [
    "### WHILE LOOP\n",
    "\n",
    "* 1.Print n Natural Numbers using while loop\n",
    "* 2.Program print n number of iterations using while loop with if statement.\n",
    "* Example : a=1,b=1 two variables b==4 loop terminated"
   ]
  },
  {
   "cell_type": "code",
   "execution_count": 1,
   "metadata": {},
   "outputs": [
    {
     "name": "stdout",
     "output_type": "stream",
     "text": [
      "Enter any number :5\n",
      "0\n",
      "1\n",
      "2\n",
      "3\n",
      "4\n",
      "5\n"
     ]
    }
   ],
   "source": [
    "# 1.Print n Natural Numbers using while loop\n",
    "n=int(input(\"Enter any number :\"))\n",
    "i=0\n",
    "while(i<=n):\n",
    "    print(i)\n",
    "    i=i+1"
   ]
  },
  {
   "cell_type": "code",
   "execution_count": 2,
   "metadata": {},
   "outputs": [
    {
     "name": "stdout",
     "output_type": "stream",
     "text": [
      "Enter lower bound:2\n",
      "Enter upper bound:7\n",
      "2 3 "
     ]
    }
   ],
   "source": [
    "# 2.Program print n number of iterations using while loop with if statement.\n",
    "lb=int(input(\"Enter lower bound:\"))\n",
    "ub=int(input(\"Enter upper bound:\"))\n",
    "while(lb<=ub):\n",
    "    if lb==4:\n",
    "        break\n",
    "    print(lb,end=\" \")\n",
    "    lb+=1"
   ]
  },
  {
   "cell_type": "markdown",
   "metadata": {},
   "source": [
    "## PROBLEM SET\n",
    "\n",
    "* 1.Function to print reverse of given string in the same line\n",
    "* 2.Function to print the odd numbers in reverse order\n",
    "* 3.Function to calculate the sum of numbers in a range\n",
    "* 4.Function to calculate the average of a given range (1,5) -> 3\n",
    "* 5.Function to generate the sum of factors for a given number 12 -> 1 2 3 4 6 12\n",
    "* 6.Function to check if a given number is Prime\n",
    "* 7.Function to calculate the average of first N Prime numbers\n",
    "* 8.Function to generate all Perfect numbers in a given range\n",
    "* 9.Perfect Number - Sum of all its factors is equal to the number itself\n",
    "    6 - 1, 2, 3\n",
    "    lb, ub"
   ]
  },
  {
   "cell_type": "code",
   "execution_count": 5,
   "metadata": {},
   "outputs": [
    {
     "name": "stdout",
     "output_type": "stream",
     "text": [
      "Enter any string:shruti\n",
      "i t u r h s "
     ]
    }
   ],
   "source": [
    "# 1.Function to print reverse of given string in the same line\n",
    "def reverse(string):\n",
    "    i=len(string)-1\n",
    "    while(i>=0):\n",
    "        print(string[i],end=\" \")\n",
    "        i=i-1\n",
    "s=input(\"Enter any string:\")\n",
    "reverse(s)"
   ]
  },
  {
   "cell_type": "code",
   "execution_count": 4,
   "metadata": {},
   "outputs": [
    {
     "name": "stdout",
     "output_type": "stream",
     "text": [
      "Enter lower bound:10\n",
      "Enter upper bound:23\n",
      "23 21 19 17 15 13 11 "
     ]
    }
   ],
   "source": [
    "#  2.Function to print the odd numbers in reverse order\n",
    "def odd(lb,ub):\n",
    "    while(ub>=lb):\n",
    "        if ub%2!=0:\n",
    "            print(ub,end=\" \")\n",
    "        ub-=1\n",
    "lb=int(input(\"Enter lower bound:\"))\n",
    "ub=int(input(\"Enter upper bound:\"))\n",
    "odd(lb,ub)"
   ]
  },
  {
   "cell_type": "code",
   "execution_count": 5,
   "metadata": {},
   "outputs": [
    {
     "name": "stdout",
     "output_type": "stream",
     "text": [
      "Enter lower bound:7\n",
      "Enter upper bound:12\n",
      "57\n"
     ]
    }
   ],
   "source": [
    "# 3.Function to calculate the sum of numbers in a range\n",
    "def sum(lb,ub):\n",
    "    s=0\n",
    "    while(lb<=ub):\n",
    "        s+=lb\n",
    "        lb+=1\n",
    "    return s\n",
    "lb=int(input(\"Enter lower bound:\"))\n",
    "ub=int(input(\"Enter upper bound:\"))\n",
    "res=sum(lb,ub)\n",
    "print(res)"
   ]
  },
  {
   "cell_type": "code",
   "execution_count": 6,
   "metadata": {},
   "outputs": [
    {
     "name": "stdout",
     "output_type": "stream",
     "text": [
      "Enter lower bound:1\n",
      "Enter upper bound:5\n",
      "3.0\n"
     ]
    }
   ],
   "source": [
    "# 4.Function to calculate the average of a given range (1,5) -> 3\n",
    "def avg(lb,ub):\n",
    "    s=0\n",
    "    c=0\n",
    "    while(lb<=ub):\n",
    "        s+=lb\n",
    "        lb+=1\n",
    "        c+=1\n",
    "    return s/c\n",
    "lb=int(input(\"Enter lower bound:\"))\n",
    "ub=int(input(\"Enter upper bound:\"))\n",
    "res=avg(lb,ub)\n",
    "print(res)"
   ]
  },
  {
   "cell_type": "code",
   "execution_count": null,
   "metadata": {},
   "outputs": [
    {
     "name": "stdout",
     "output_type": "stream",
     "text": [
      "Enter enter any number:12\n"
     ]
    }
   ],
   "source": [
    "# 5.Function to generate the sum of factors for a given number 12 -> 1 2 3 4 6 12\n",
    "def factor(num):\n",
    "    i=1\n",
    "    s=0\n",
    "    while(i<=num):\n",
    "        if num%i==0:\n",
    "            s+=i\n",
    "    print(s)\n",
    "num=int(input(\"Enter enter any number:\"))\n",
    "factor(num)"
   ]
  },
  {
   "cell_type": "code",
   "execution_count": 1,
   "metadata": {},
   "outputs": [
    {
     "name": "stdout",
     "output_type": "stream",
     "text": [
      "Enter any value:34\n",
      "Non prime\n"
     ]
    }
   ],
   "source": [
    "# 6.Function to check if a given number is Prime\n",
    "def prime(num):\n",
    "    i=2\n",
    "    c=0\n",
    "    while i<=num:\n",
    "        if num%i==0:\n",
    "            c+=1\n",
    "        i+=1\n",
    "    return c\n",
    "num=int(input(\"Enter any value:\"))\n",
    "res=prime(num)\n",
    "if res==1:\n",
    "    print(\"Prime\")\n",
    "else:\n",
    "    print(\"Non prime\")"
   ]
  },
  {
   "cell_type": "code",
   "execution_count": 2,
   "metadata": {},
   "outputs": [
    {
     "name": "stdout",
     "output_type": "stream",
     "text": [
      "Enter any value:12\n",
      "2 Prime\n",
      "3 Prime\n",
      "5 Prime\n",
      "7 Prime\n",
      "11 Prime\n"
     ]
    }
   ],
   "source": [
    "#  7.Function to calculate the average of first N Prime numbers\n",
    "def prime(num):\n",
    "    i=2\n",
    "    c=0\n",
    "    while i<=num:\n",
    "        if num%i==0:\n",
    "            c+=1\n",
    "        i+=1\n",
    "    return c\n",
    "num=int(input(\"Enter any value:\"))\n",
    "i=2\n",
    "while(i<=num):\n",
    "    res=prime(i)\n",
    "    if res==1:\n",
    "        print(i,\"Prime\")\n",
    "    i+=1"
   ]
  },
  {
   "cell_type": "code",
   "execution_count": 3,
   "metadata": {},
   "outputs": [
    {
     "name": "stdout",
     "output_type": "stream",
     "text": [
      "Enter any number:30\n",
      "6 perfect number\n",
      "28 perfect number\n"
     ]
    }
   ],
   "source": [
    "# 8.Function to generate all Perfect numbers in a given range\n",
    "def isperfect(num):\n",
    "    s=0\n",
    "    for i in range(1,num):\n",
    "        if num%i==0:\n",
    "            s+=i\n",
    "    return s\n",
    "number=int(input(\"Enter any number:\"))\n",
    "for i in range(1,number):\n",
    "    res=isperfect(i)\n",
    "    if res==i:\n",
    "        print(i,\"perfect number\")"
   ]
  },
  {
   "cell_type": "code",
   "execution_count": null,
   "metadata": {},
   "outputs": [],
   "source": []
  },
  {
   "cell_type": "code",
   "execution_count": null,
   "metadata": {},
   "outputs": [],
   "source": []
  }
 ],
 "metadata": {
  "kernelspec": {
   "display_name": "Python 3",
   "language": "python",
   "name": "python3"
  },
  "language_info": {
   "codemirror_mode": {
    "name": "ipython",
    "version": 3
   },
   "file_extension": ".py",
   "mimetype": "text/x-python",
   "name": "python",
   "nbconvert_exporter": "python",
   "pygments_lexer": "ipython3",
   "version": "3.7.3"
  }
 },
 "nbformat": 4,
 "nbformat_minor": 2
}
